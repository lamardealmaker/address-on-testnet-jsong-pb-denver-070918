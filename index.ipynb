{
 "cells": [
  {
   "cell_type": "markdown",
   "metadata": {},
   "source": [
    "# Create an Address on Testnet"
   ]
  },
  {
   "cell_type": "markdown",
   "metadata": {},
   "source": [
    "#### Create a testnet address using your own secret key\n",
    "#### (use your phone number if you can't think of anything)\n",
    "#### Record this secret key!"
   ]
  },
  {
   "cell_type": "code",
   "execution_count": 2,
   "metadata": {},
   "outputs": [
    {
     "name": "stdout",
     "output_type": "stream",
     "text": [
      "What is your code? bitcoin\n",
      "How many hashes?100\n",
      "How many keys would you like generated:2\n",
      "\n",
      "Main key: 51805352094821728254818385700315392405922062783411389884193321273664611849902119463060033047949734384186806895009505145608149364076306627201434996745723182424717159231186659031216099434785117655216767938496067668185895888781795261\n",
      "Main key (hex): 0x88ad82d150a19f2405b4cbc806e30170b55b343248d0f42f16916e9be09689c4e914d316694218a55a250f443115305412d256686924ffa50257518c89dbe5abd6a4ddaf71dd12dbe39da3a6cd29810193d0eb074d24541681d1a2d3cdb5fbd\n",
      "\n",
      "\n",
      "Key Level: 1\n"
     ]
    },
    {
     "ename": "TypeError",
     "evalue": "object supporting the buffer API required",
     "output_type": "error",
     "traceback": [
      "\u001b[0;31m\u001b[0m",
      "\u001b[0;31mTypeError\u001b[0mTraceback (most recent call last)",
      "\u001b[0;32m<ipython-input-2-7a0447940234>\u001b[0m in \u001b[0;36m<module>\u001b[0;34m()\u001b[0m\n\u001b[1;32m     32\u001b[0m     \u001b[0mprint\u001b[0m\u001b[0;34m(\u001b[0m\u001b[0;34m)\u001b[0m\u001b[0;34m\u001b[0m\u001b[0m\n\u001b[1;32m     33\u001b[0m     \u001b[0mprint\u001b[0m\u001b[0;34m(\u001b[0m\u001b[0;34m'Key Level: '\u001b[0m \u001b[0;34m+\u001b[0m \u001b[0mstr\u001b[0m\u001b[0;34m(\u001b[0m\u001b[0mlevel\u001b[0m\u001b[0;34m)\u001b[0m\u001b[0;34m)\u001b[0m\u001b[0;34m\u001b[0m\u001b[0m\n\u001b[0;32m---> 34\u001b[0;31m     \u001b[0mprint\u001b[0m\u001b[0;34m(\u001b[0m\u001b[0;34m\"PK HEX: \"\u001b[0m\u001b[0;34m+\u001b[0m \u001b[0ms256\u001b[0m\u001b[0;34m(\u001b[0m\u001b[0ms\u001b[0m\u001b[0;34m)\u001b[0m\u001b[0;34m)\u001b[0m\u001b[0;34m\u001b[0m\u001b[0m\n\u001b[0m\u001b[1;32m     35\u001b[0m     \u001b[0mprint\u001b[0m\u001b[0;34m(\u001b[0m\u001b[0;34m'Scalar: '\u001b[0m \u001b[0;34m+\u001b[0m \u001b[0mstr\u001b[0m\u001b[0;34m(\u001b[0m\u001b[0mkey_level\u001b[0m\u001b[0;34m)\u001b[0m\u001b[0;34m)\u001b[0m\u001b[0;34m\u001b[0m\u001b[0m\n\u001b[1;32m     36\u001b[0m     \u001b[0;31m# get the public point\u001b[0m\u001b[0;34m\u001b[0m\u001b[0;34m\u001b[0m\u001b[0m\n",
      "\u001b[0;31mTypeError\u001b[0m: object supporting the buffer API required"
     ]
    }
   ],
   "source": [
    "from ecc import G\n",
    "from hashlib import sha256 as s256\n",
    "from hashlib import sha512 as s512\n",
    "\n",
    "\n",
    "s = input(\"What is your code? \")\n",
    "hashes = int(input(\"How many hashes?\"))\n",
    "total_keys = int(input(\"How many keys would you like generated:\"))\n",
    "\n",
    "for i in range(hashes):\n",
    "    s = s512(s.encode()).hexdigest()\n",
    "    t = s256(s.encode()).hexdigest()\n",
    "s = (int(s, 16))\n",
    "t = (int(t, 16))\n",
    "s = s*t\n",
    "# u is scalar\n",
    "u = t\n",
    "#parent_key\n",
    "parent = s\n",
    "\n",
    "print()\n",
    "print('Main key: ' + str(parent))\n",
    "print('Main key (hex): ' + hex(parent))\n",
    "print()\n",
    "\n",
    "level = 0\n",
    "# use your phone number if you can't think of anything\n",
    "#secret = 0x977090903897cfbb8e30a806ad5d0c2086cb42d3e341ba0efdccc31b4b278823058aa1c57ddd23fccf54eea8d71199b053ccac8c53c87b9dfafda9e32562f5d32\n",
    "for key_level in range(u, u + total_keys):\n",
    "    level = level + 1\n",
    "    s = key_level*s*parent\n",
    "    print()\n",
    "    print('Key Level: ' + str(level))\n",
    "    print(\"PK HEX: \"+ s256(s))\n",
    "    print('Scalar: ' + str(key_level))\n",
    "    # get the public point\n",
    "    point = key_level*s*G\n",
    "    # if you completed the `address` method, just do the .address(testnet=True) method on the public point\n",
    "    print('Compressed: ' + (point.address(compressed=True, testnet=False)))\n",
    "    print('Uncompressed: ' + (point.address(compressed=False, testnet=False)))"
   ]
  },
  {
   "cell_type": "markdown",
   "metadata": {},
   "source": []
  },
  {
   "cell_type": "code",
   "execution_count": null,
   "metadata": {},
   "outputs": [],
   "source": []
  }
 ],
 "metadata": {
  "kernelspec": {
   "display_name": "Python 3",
   "language": "python",
   "name": "python3"
  },
  "language_info": {
   "codemirror_mode": {
    "name": "ipython",
    "version": 3
   },
   "file_extension": ".py",
   "mimetype": "text/x-python",
   "name": "python",
   "nbconvert_exporter": "python",
   "pygments_lexer": "ipython3",
   "version": "3.6.4"
  }
 },
 "nbformat": 4,
 "nbformat_minor": 2
}
