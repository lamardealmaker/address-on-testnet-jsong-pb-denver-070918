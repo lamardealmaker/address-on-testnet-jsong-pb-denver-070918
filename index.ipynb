{
 "cells": [
  {
   "cell_type": "markdown",
   "metadata": {},
   "source": [
    "# Create an Address on Testnet"
   ]
  },
  {
   "cell_type": "markdown",
   "metadata": {},
   "source": [
    "#### Create a testnet address using your own secret key\n",
    "#### (use your phone number if you can't think of anything)\n",
    "#### Record this secret key!"
   ]
  },
  {
   "cell_type": "code",
   "execution_count": 3,
   "metadata": {},
   "outputs": [
    {
     "name": "stdout",
     "output_type": "stream",
     "text": [
      "What is your code? 44\n",
      "How many hashes?444\n",
      "How many keys would you like generated:6\n",
      "\n",
      "Main key: 151631548809206146826774096395337908644075343781992567031455806260436557239252240204819331137480033298386122066211519750387438446959471904399858918918603343800688791677142042651232121013345366342806442729943324417984354258860479288\n",
      "Main key (hex): 0x1900c76bb7e876e4f5ba7aa9758abe8b9952339b46d10c031ef3da9f8f4b277dfb2b8b056196c907ae9c83584cbfc2d1ec5035a220774c9c3320a16bec212e9f79d19c84178fba235ecf0b2f74831712280f1e34ea11e6c35223ad204fe99338\n",
      "\n",
      "\n",
      "Key Level: 1\n",
      "PK HEX: 0x975925c5a23dbb4fab188f2b7644a81d3c3ecf53f3d2692df6807174d95987e5e6e1e3f245af679c932b847b13eb77782958082446771b5ada8b9631cae4dba53b9a56a972f3d60ac180541bb498e586c1f893a366463062d44502d3ce326abafcfdbb7d9dd312c3dcc8f2852ce069b7a7d2c70ce7c7a03826ec538cc05fa87cccb4a281d3eb88566d3479fb01bbdaf80331c9991cdc5c113666c5e97e5fb1e9fb098903322b211dcaf687d6157b7ab2b200520afa1c82224bb51fd091aed41a46ba23f498c7cc6e43c63d9e3996bdc9f81ef714d9bcc5acb949161fdf4680\n",
      "Scalar: 28033060286087336289131475521720484261354534599035207652789489426614080362938\n",
      "Compressed: 1JpraDXfvG9ps5jfcXHNSXrvqWPU1A8MUj\n",
      "Uncompressed: 1Ja3iXzoQawX4RDKHUURtH4piGqvYsXg5N\n",
      "\n",
      "Key Level: 2\n",
      "PK HEX: 0x39423d67180a37784c2b7472855101707d47fb7161abff5e94476b0768db73ae7bd122e386221a1d4aa021b015a9d45052cfa30e00982ecd4e8ef2c46c6f66f3b74934248b2bdcc4515ecc5550228b7db996528f00cf5b875db3fc57410e0229c86c56c3f8e22af5c811386f3820753a4929f9df9033192161b2e308f8d5bab928c833992c5fcfa21fc3d46870d49d2842e9313f7bd376b8c25df959ac3f3a294fa8ece8b529c5822c0b7c92f9a9bf8110eb8e6ec3e959e332226421c4d56a89b4d91983946135d40100e5e9d8d0840fce02085c6a71f767102ab2c4641d070678bb41e6fc329d483b945b0ed726db9c80edb0ff0cb18c811cfcfa7569c20f7bcbf6993d837b12ec224827d3ab79622d9f48c432ee5277cd668e799db67c9de2c0d9afd1aba337f96444bbb3a4efa495390edbcb1f00aeae33ca7bd31da13d800dbaed6c646b253b385e283e0a137caaf8275800cb12b7d115a0c881e6400\n",
      "Scalar: 28033060286087336289131475521720484261354534599035207652789489426614080362939\n",
      "Compressed: 1GE6Nrz1R2LQRuSbUA6UcWpzNBn7rFkG1R\n",
      "Uncompressed: 1MgMyWkTaeuWqVNVJxfE2ghs9JMdwtoMK8\n",
      "\n",
      "Key Level: 3\n",
      "PK HEX: 0x15a9925e1bf8c9ee7c8cb104e06257ae1e548ab654afe419b32feeea3f53fb216fc52ef1bcc129cc2b4610a0a01305e92f3918d226e5d46d54347d3687582817fdfd168f91a8f1091c38a1c38dc94dfec42e616dd1d02efefc8a3df6b272e7fc0d79720fcd54da23e68229b042148f4d66e54cf5e85acbe4fc92aed2b9c9048d9c033559e8f51b7ab4a20823237e881964655028d7e12c7824893ed34969124db9784c699f0789c14b8b244853908ca77d81319e8bd164867942f4444133168809667c44b89965c6644f40dcc8f9781e9c48b95be31815cb6461412239cb88e638b57e95ed0ab575cc27417196270d88478a045a0f342892ed99e08ba03408ee6266b5145c32215c631f5cd427795d408645e3f36188ec9514c5db06561ce13cdca5bd65c4b27e58d36e606106e64ac8b41cc3f5a405b1311172a85e9d0fed72401f0266f76e52300e91ad3fa27b8202faab3eb04beb5681ffbf2eb858b90610fb5f2bfc29371698837172d276eea1728f4158b4b3bb41bda196e75da41cc559d7e75b8ffeb6779c22d88a9a546f34848d7e979f385477201dfa11daa3a13bd46c6633560e4ce00e8cf0c7a8f1bdfb1b4a69f7ef746d75046466ed27794331aafcfbe1b9b12305d05dbabdc207cea5d668cc3e8fe8def9fd9a621c008000\n",
      "Scalar: 28033060286087336289131475521720484261354534599035207652789489426614080362940\n",
      "Compressed: 15F4B8f9DtBe41brtBXq5kcjvYqJ58EHik\n",
      "Uncompressed: 14wBoPTshHqoRxdMaHaJHmgJHrCCcTVE3A\n",
      "\n",
      "Key Level: 4\n",
      "PK HEX: 0x832069d9a9950c510a146f6c6f3bb5ec47b9dde402f3757a6c04b59e4dc92b2f0e333e9dfc78b38ca486a3ac67d642bf1a7d8d2cbc37625d50adf9dec9d667fdf8c7473268e4c3c5437413399f6ad01429ed005310d820b0576e038a88ebac103789f710dfcb73b810fcd9cf145064c1254030bf20042c63970f67046cd2f7bb503bd281040481b806a06297931e451f174dcb2adf8d28233f4a90e674f4edf4193f821a62ed0070679e82da3d8211c30c1b494b07caa7f4d3eff1a3dcf6131b95e1a75f3221855a195ab97655f588cdecff181bac63f1cc1de067ef2497009508ebb5b16da38aa6d0e98db14b5ccff7294a810d10af7ef376b0a1f6d8b4189050c15898ec8e93bab0dbcb7a7fd9fe3bfd87346d424f9adb0a4807e89177e4ea383547065db38d077f00c380f98dfba37f403be7433ba73ad5771fed9087eb905af8c9867696401f380d98f0170ef3eb59f1cfe44dc9b296211d1579383e8874cd1dd6d3a7eff57c530a01ccc03c179d88748861afccfab99b679e6564653dae585c2ae0397108c8d2e16dcbb9376299902e32ee39ffb376cdf4c5b96085e051dfd365af44ce7b5586b12668df32666db806792ca8f83525b8eaf2c3b859fa3eda5e358474172cc63f5477f5b1ce9a829475ccaef57c779150480c03d5d6590d6d6315c72280e46a4dd4a1311c2462ffc029261bb9acba10948b0e6229309b2bef21339329e6eb371e5b1a75283d65742fcb569c096699702aa2fac16b79fd36d9c2a003f38b3b7dfa80790d5f8d08e6f0278900dd509c774cd31e7ec10673ce1db0b20fb430d959cf59a0680199208d20f588b5b3d0be0883b42c0000\n",
      "Scalar: 28033060286087336289131475521720484261354534599035207652789489426614080362941\n",
      "Compressed: 1NE5Zmnr4NjBL7KJUR873JFsTX7AmPYyxz\n",
      "Uncompressed: 1N6tJMdQpJ8xXMh4FZ8vSPdg4sjztJuoHW\n",
      "\n",
      "Key Level: 5\n",
      "PK HEX: 0x319bc11d6411bc008fb4c6d78bda94b3e0c8121ee0c1e76177b2316a312b6caea0537cfa46b3c22d933fda5ce99bc02b23df55aa547eaa8123c7dc743f4ddc1e0c05ded5a5b54a5f96c861f76166ba4ad601d6f998540784d6752a4e15ce0dfc3268a9f33e9419949737a9399b55d7a65ad95ea839aa17cbb83fbb6cf0191c39d25dd43f6e2848cc4b3184a2c4b035ed757c0b6675ee04e36d40c37946820f1881f10a607c848048c43ea47928eb41a60564ab026db63aef5d87bf56e0736b65a13c0c960bd189fa734b820aa436985e33cede0853c51ee1615bb63866e1b4f3b342af3079473d41e172555a9e83052c95b390e5042fb88ea9955d5120aea719f5ab6ae0a729f09a1d8563974de29692ef26d959af559096fb797db6e86d11bdc99b3c2866dbf2511f1504704af15e0ff80cf4b1cee21233a4f4eddfe143048881e97dfee0eb47b177ed6582ddc33c745a91082e8614890e994bb4a14135763abb7e816c46ca5d0c5c75e8c89b803ab82439c980fa14b3a73b8bf3cdcded684ca6aeee87d5040cf8a77168c7bbbc5e87b813b10ef4a8492243ac57548eb81950486650ddfdd46e4331809a6c716c49b05568f19127ddf4b5933a56b3f4d55dadcb9557696ef5d9063025ae6a46f50cbfb74b7c3f71e299e22116a8d4df20a26ae21351b0939c11a9b88aedfd1e90f0df908aaa0ef8aa764ff4f49b51321189946083943a6005e53f6a7c286a377403e959a0678f147e9d47fe1cc415385ecdc95999aee04c9ec5ad32407e72a3085efb6c2e77652cb36109d324474290b5479cfaddbb915830fcf03a06945a4a714fc0665e6bcae2f9593e111821dcbf838cae0f249085043139d7a18999d9f8e235234b024891c3bc9c1fb7fe37cc007dee812189fe2858ad6a41191319e16fd95723a687ad74b646e14f2c73381bd5e22ffc47f14e53c3c67d0c082762329e2f8813cdee6b5dfaaba7610a6295ed91973c253170e87c3d351633345bce0c13181283dca3a167c094df32d7cc00000\n",
      "Scalar: 28033060286087336289131475521720484261354534599035207652789489426614080362942\n",
      "Compressed: 1Bgt5WSPgT8s5xefBpnTeC4TzV5wArbaPq\n",
      "Uncompressed: 1GAfRSks2VGtvMh7sWAKYY5sMe9qCmfQi9\n",
      "\n",
      "Key Level: 6\n",
      "PK HEX: 0x12c4a0ee4f7c07d52276b5bc7b16d146e9f495ee95850eab9be6d27edc6f212662e5044eeb11cd5cf9f26fd35aa10213b3a93c247bbbf88f5d16ca832dcc2d2aff8d0e9407f22002a51616eac7c941ddfa88fb143c13de1a0585bdd85f3b4c2619d15d6d557568008ef67fdd38c6e43f29c230fefd08ce4f1d8701408ce6877976150426a6a21fd641dabd374adb2dcab7622935d044ffdf27ac83ed1c461a9c6694538820dadc62f784592a58058ea00813e3184a6a2e603a1137285fe3876c04479b1da41602eed62030f1b147f13ebd7c8356c0327de55cf42bd64795fd2574366f39110fb0181b1cd9ae9ce7ed692dbc113f8174533006665666fc6543495799983e240c939b1e42f86866f88df9c7e45f88bea943c94c59eb0769884aee19122ac1e65084dbab44500a63de2a376ea857ac1ebbe01722192a634218871e07b89cf2d3d030910b612580f91859fad014bce665edb57719a6ec489dbda4e121e4a0408e7763d62560fc93194120e29f4488b6e73d836e459b18e8001d603b9b923eb8a0fb87432d7d1b4de12f2053ab52dc80d27f12371cfec9c34a16c2df03df0686853f6c0cf9a18ecd81fe874e031a80b31cdff19b79d5fbe231bcd47d927f3386e4338d85c197cdf0c5e8143204dd2726fe6f235523815c7c9c1f368e70aa223fbfbadba2fcd003b700a4f4b9182796588db2996734e75873ec1c8482eda0e76397f4452560ec850f80d3d5e86fdb35fb81439e2238e82ee1242f5020dc78189077a993df1ea70e88cec402f8ed04e30b68fac59a713ed1dd3e1d885f83e75a5229ccab45de10c34e3a2c1895f97519818044b71d9bf59096659bf1f1fe8bcea9fe222b2c08fff6c55f14908aed0e2a8d424ca1a1c98b7e859e5a7974573f455e2c3c0c4965f4617d6cd4e9456a02f3c9c5e2d316df44070292ddbc116882793fa3ea1b9acd4838535d8b6dcfe41992ee81440b015b2f9d7a7dece6695193bbb2625ab379f2afc2530f0c30f3a971ee3bfead8988092f3350415907c19162bdfc082cb16ea35dc4f31a644f378b34a35eb40f85195736dedf7d9c908860f077bf57911409efc7fa682a6965d13885c2c19d254efd130d502c853182b4618804909c1102c1538ad2beed6ffb2f4ffd8f7307d7d415b36471b4132e7fb0be5d32367446d26e8ea0f21ee9e2dada88036b411bbd38cbf6000000\n",
      "Scalar: 28033060286087336289131475521720484261354534599035207652789489426614080362943\n",
      "Compressed: 17pF5psMzAKwUYPcKwaPDGh5Vaavw7jEUL\n",
      "Uncompressed: 1LEkG8b8u4faMCEumNg6cxVrZx39rYhnNM\n"
     ]
    }
   ],
   "source": [
    "from ecc import G\n",
    "from hashlib import sha256 as s256\n",
    "from hashlib import sha512 as s512\n",
    "\n",
    "\n",
    "s = input(\"What is your code? \")\n",
    "hashes = int(input(\"How many hashes?\"))\n",
    "total_keys = int(input(\"How many keys would you like generated:\"))\n",
    "\n",
    "for i in range(hashes):\n",
    "    s = s512(s.encode()).hexdigest()\n",
    "    t = s256(s.encode()).hexdigest()\n",
    "s = (int(s, 16))\n",
    "t = (int(t, 16))\n",
    "s = s*t\n",
    "# u is scalar\n",
    "u = t\n",
    "#parent_key\n",
    "parent = s\n",
    "\n",
    "print()\n",
    "print('Main key: ' + str(parent))\n",
    "print('Main key (hex): ' + hex(parent))\n",
    "print()\n",
    "\n",
    "level = 0\n",
    "# use your phone number if you can't think of anything\n",
    "#secret = 0x977090903897cfbb8e30a806ad5d0c2086cb42d3e341ba0efdccc31b4b278823058aa1c57ddd23fccf54eea8d71199b053ccac8c53c87b9dfafda9e32562f5d32\n",
    "for key_level in range(u, (u+ total_keys):\n",
    "    level = level + 1\n",
    "    s = key_level*s*parent\n",
    "    print()\n",
    "    print('Key Level: ' + str(level))\n",
    "    print(\"PK HEX: \"+ hex(s))\n",
    "    print('Scalar: ' + str(key_level))\n",
    "    # get the public point\n",
    "    point = key_level*s*G\n",
    "    # if you completed the `address` method, just do the .address(testnet=True) method on the public point\n",
    "    print('Compressed: ' + (point.address(compressed=True, testnet=False)))\n",
    "    print('Uncompressed: ' + (point.address(compressed=False, testnet=False)))"
   ]
  },
  {
   "cell_type": "markdown",
   "metadata": {},
   "source": []
  },
  {
   "cell_type": "code",
   "execution_count": null,
   "metadata": {},
   "outputs": [],
   "source": []
  }
 ],
 "metadata": {
  "kernelspec": {
   "display_name": "Python 3",
   "language": "python",
   "name": "python3"
  },
  "language_info": {
   "codemirror_mode": {
    "name": "ipython",
    "version": 3
   },
   "file_extension": ".py",
   "mimetype": "text/x-python",
   "name": "python",
   "nbconvert_exporter": "python",
   "pygments_lexer": "ipython3",
   "version": "3.6.4"
  }
 },
 "nbformat": 4,
 "nbformat_minor": 2
}
