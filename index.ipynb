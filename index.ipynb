{
 "cells": [
  {
   "cell_type": "markdown",
   "metadata": {},
   "source": [
    "# Create an Address on Testnet"
   ]
  },
  {
   "cell_type": "markdown",
   "metadata": {},
   "source": [
    "#### Create a testnet address using your own secret key\n",
    "#### (use your phone number if you can't think of anything)\n",
    "#### Record this secret key!"
   ]
  },
  {
   "cell_type": "code",
   "execution_count": 1,
   "metadata": {},
   "outputs": [
    {
     "name": "stdout",
     "output_type": "stream",
     "text": [
      "What is your code? bitcoin\n",
      "How many hashes?100\n",
      "How many keys would you like generated:4\n",
      "\n",
      "Main key: 51805352094821728254818385700315392405922062783411389884193321273664611849902119463060033047949734384186806895009505145608149364076306627201434996745723182424717159231186659031216099434785117655216767938496067668185895888781795261\n",
      "Main key (hex): 0x88ad82d150a19f2405b4cbc806e30170b55b343248d0f42f16916e9be09689c4e914d316694218a55a250f443115305412d256686924ffa50257518c89dbe5abd6a4ddaf71dd12dbe39da3a6cd29810193d0eb074d24541681d1a2d3cdb5fbd\n",
      "\n",
      "\n",
      "Key Level: 1\n",
      "PK HEX: 0xb9c3845a1a13d079a9246f3ed4bcef90c5d094d42d9d285c87de95f870eb3d385d51958fcbb77e258400cfd2ea48359941fdd24411d66dd11f7ba2e1962000a545219a6868fc1058da92355474e73e278c7086142c3daac6906c1f9401a7cbbb4fd25c870e25a527f0bf72d44b213ce9d28918ea5debe8d69c259c6f43a6483f8b586feced8930f98eb23729b3ab0de3091dffcb169254ec13773eaacfaf98086d415584853e7e33f3a617ecacd843633fb8b7a8be6bee59afaf5ab26f2974e7911dfa58d5dd852d93840426fa76859cf6c6b33a564655e79f9cf605539c9\n",
      "Scalar: 18423154715576613957068331448529704543923090025800018565467354450997990217281\n",
      "Compressed: 17DELicT6LhKkmnGfiMaPXF2XJeMubHevH\n",
      "Uncompressed: 1A3KfqaXEXqti2Y1ZwfFL27KKhLKty5JBX\n",
      "\n",
      "Key Level: 2\n",
      "PK HEX: 0xfc7a6eca9f75ea4088b7fd4e236815b8a68d4c943840f035afdc79602165c0d4a5abb3af7ac1bcf1e24c0d637aa58a6ad8c91d086860744f29b46429c9f8394ed2b968c9a6f07a150fa6368f47c92463fd05ed3b7beab9f78a53baded1725a849609e7989b809ff08cccb1be314f82e39546dc0491476a67797af8a5dfc29800509d1754b0e0ce0578ed8fe959515e796b62a6d439c57651ac00642d28e647ed3ba24af11a4f63c6e9b3f0e0a23555e1b5eae8cceed6ae6e3748146772e1475e3eeba2cf1775b798bb7f69a5282d41398841301aa048646a9270e29a577166f5fef2d9306aebec3e68a026a638ac1530b1c4808a7c987b582c7e29393f06edd5662153595dbcf7cd87ea872d8a9f732561af3f3d56046961d115cce1cffaefc368863ae05d570c013f065ab9c189172962451794cf66f9d2adf9c5200b58a27399600070a3d87cdee8bc11b570f6ace5ee7986164544d2e7a22ffdf880a\n",
      "Scalar: 18423154715576613957068331448529704543923090025800018565467354450997990217282\n",
      "Compressed: 1FfBuDZWf5zXf4JQHqHAYoke1C2ohE1zpV\n",
      "Uncompressed: 18oDFruo2ZuW3UvWvWyuaT55Uc6s7gkVL3\n",
      "\n",
      "Key Level: 3\n",
      "PK HEX: 0x1572702259a6b60924d88277b720d5291a2e07d27c418b53059127450a9bb905a7e6cac0a83908c057fe243ef7a9f89f94841b5d0f473823fe953fcb522da28dc115e60bc5845ff0842fa3e8dad603dbccbe597545301e508e000ddcb2572a32d0ff88340a168afa8918d87b4412b74e0b7cc1430db3fcc44acaabfeb7fd02c9307a80c8298aee6629536728e636c0bf16552a81c66f4d1428863558ad20867dca08c38c3058254282beb8d97d82dd0839e090c7876bab13cd1896e84ca46701d6d7aae9657f54a156c72ad074819fe2a01d4ce93b20cd160157dc87f7f25fb3b8f2b2fad0cc23ce2215511d602aa6dd7654c65f541b23dd1df33573dd4cba08a40527aee3a79db11341f65a2c8516c0ef2565ec30db155c33627af5fe2f792e85761131094e6bef02d33895cd9ad79be8f3441de650cdd696c2133996191b7ffb8279005dd36577e0ddc0913f9fbcbfa1347091697bf84c2f2630f4a376dff3591e9dded39fdc4f0cb952473abb6c58dc64a01dc048da5a3321ac44dce44a470e375160653680276e71b4fca5e861735f762eeb3cc1e02d0a830b8b38ab61fb40f26250501bc862c2f62151f325f866fabac0bd1faa6a517682e47df16f2d04d1cdde5b34699fc8899d74e03581dcffcda9c6e8fbacc254859f7db4a6\n",
      "Scalar: 18423154715576613957068331448529704543923090025800018565467354450997990217283\n",
      "Compressed: 16tcPRMw3xnSTK9zueUp19NRXaW2zY3K4V\n",
      "Uncompressed: 1PA2w4sKrqgz3p564ncqTm2DX6fRbZeU2t\n",
      "\n",
      "Key Level: 4\n",
      "PK HEX: 0x1d264106c23c50843acb5f0cefbf0edab343f57e1f5c60991f95d50909dcf9220c2ded6815dfe15544f105e6e25284d7fe65bdf1410cfab6e0280aac664098356145648f8544c2fcb2d8cf3793884a48e0c83c1429c9008945751aed6fa6dfc871cdd90c3a37f2f1b9ca85258ef92b8948df864d354157e6bbcfe643917689acc2f9c7c126ed26afb8305a9113d5710a24581e0d418660476bffbc6d852b895c06a0fa174211fa711698733784d35e040497b0fae5f82643e040d2f67569bb79c1d5bb9e10762ed2dc3bdd7a8e755e2e74b612741dcce6cce6929e9dc35babcc006c3cfc271fc19ea69d503c3485e1b8d976a0de1c18a5aced80ccddbb7f694779d44b6acf9de78e18690bde62881f46b61e2b4a9b311775ae679d69e42b53f837b090ca34f6a0f051d8ab5528cc8532595265ff1e814e08c71b819d5eb3238eeb8507f323462aa2b65d53e6b565fac0c44eedd3d875f9ad2b0b1ecee706c57de485a4bae0daa14929d90637c8a2292c5cafcf27ed2711b317678d77c4e6f76085f5cf16d1d3845c0a376fdb8fbd0c95e8f4527997cbd90082844a5e45a4180652ed1494154fb7c8ba4cd918ebe808755c660acc3eda001514cf7970ea1c7b7c75e1894bd9c2f27fb8e70b9f1e72e0756bbf426bf4bd309ebea61654a6068bcfeaf76230e7b927e6e66a79efc6decd1365b94da6554649fcc40bde6d6210732487ee6ebc68846d7d62b7a4d11aa9a5b4ad02b418f39051b0f5cd784aab06696064f65ac26685a48c264581c93efd8add2c9ef933a4de8493e4b6b3d8535f848e9d44f9fe9d43d2bc21485b7d91f454d48d70a063e177fa672063b9b8\n",
      "Scalar: 18423154715576613957068331448529704543923090025800018565467354450997990217284\n",
      "Compressed: 15znDRbktBJvDwY1Bv8VFDp61omvfkBgkk\n",
      "Uncompressed: 13wavam5LWcUSvaCGfawjL7mA1afBtPK9E\n"
     ]
    }
   ],
   "source": [
    "from ecc import G\n",
    "from hashlib import sha256 as s256\n",
    "from hashlib import sha512 as s512\n",
    "\n",
    "\n",
    "s = input(\"What is your code? \")\n",
    "hashes = int(input(\"How many hashes?\"))\n",
    "total_keys = int(input(\"How many keys would you like generated:\"))\n",
    "\n",
    "for i in range(hashes):\n",
    "    s = s512(s.encode()).hexdigest()\n",
    "    t = s256(s.encode()).hexdigest()\n",
    "s = (int(s, 16))\n",
    "t = (int(t, 16))\n",
    "s = s*t\n",
    "# u is scalar\n",
    "u = t\n",
    "#parent_key\n",
    "parent = s\n",
    "\n",
    "print()\n",
    "print('Main key: ' + str(parent))\n",
    "print('Main key (hex): ' + hex(parent))\n",
    "print()\n",
    "\n",
    "level = 0\n",
    "# use your phone number if you can't think of anything\n",
    "#secret = 0x977090903897cfbb8e30a806ad5d0c2086cb42d3e341ba0efdccc31b4b278823058aa1c57ddd23fccf54eea8d71199b053ccac8c53c87b9dfafda9e32562f5d32\n",
    "for key_level in range(u, u + total_keys):\n",
    "    level = level + 1\n",
    "    s = key_level*s*parent\n",
    "    print()\n",
    "    print('Key Level: ' + str(level))\n",
    "    print(\"PK HEX: \"+ hex(s))\n",
    "    print('Scalar: ' + str(key_level))\n",
    "    # get the public point\n",
    "    point = key_level*s*G\n",
    "    # if you completed the `address` method, just do the .address(testnet=True) method on the public point\n",
    "    print('Compressed: ' + (point.address(compressed=True, testnet=False)))\n",
    "    print('Uncompressed: ' + (point.address(compressed=False, testnet=False)))"
   ]
  },
  {
   "cell_type": "markdown",
   "metadata": {},
   "source": []
  },
  {
   "cell_type": "code",
   "execution_count": null,
   "metadata": {},
   "outputs": [],
   "source": []
  }
 ],
 "metadata": {
  "kernelspec": {
   "display_name": "Python 3",
   "language": "python",
   "name": "python3"
  },
  "language_info": {
   "codemirror_mode": {
    "name": "ipython",
    "version": 3
   },
   "file_extension": ".py",
   "mimetype": "text/x-python",
   "name": "python",
   "nbconvert_exporter": "python",
   "pygments_lexer": "ipython3",
   "version": "3.6.4"
  }
 },
 "nbformat": 4,
 "nbformat_minor": 2
}
