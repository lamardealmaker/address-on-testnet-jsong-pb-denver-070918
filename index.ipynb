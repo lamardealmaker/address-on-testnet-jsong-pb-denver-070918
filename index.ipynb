{
 "cells": [
  {
   "cell_type": "markdown",
   "metadata": {},
   "source": [
    "# Create an Address on Testnet"
   ]
  },
  {
   "cell_type": "markdown",
   "metadata": {},
   "source": [
    "#### Create a testnet address using your own secret key\n",
    "#### (use your phone number if you can't think of anything)\n",
    "#### Record this secret key!"
   ]
  },
  {
   "cell_type": "code",
   "execution_count": 3,
   "metadata": {},
   "outputs": [
    {
     "name": "stdout",
     "output_type": "stream",
     "text": [
      "What is your code? bitcoin\n",
      "How many hashes?100\n",
      "How many keys would you like generated:4\n",
      "\n",
      "Main key: 51805352094821728254818385700315392405922062783411389884193321273664611849902119463060033047949734384186806895009505145608149364076306627201434996745723182424717159231186659031216099434785117655216767938496067668185895888781795261\n",
      "Main key (hex): 0x88ad82d150a19f2405b4cbc806e30170b55b343248d0f42f16916e9be09689c4e914d316694218a55a250f443115305412d256686924ffa50257518c89dbe5abd6a4ddaf71dd12dbe39da3a6cd29810193d0eb074d24541681d1a2d3cdb5fbd\n",
      "\n",
      "\n",
      "Key Level: 1\n",
      "PK HEX: 0x15bf05c76b89b4e1dbad3cad88c3c654fa5af454b9e89ea5f2c2c072b43cf20dae22abcfd0bdf419e4c773ac402da53f20a05ff2a1dbb9e73ef8e5f87d0b81d493ea29344e2b77fb39c71d30e4649bcbbae77943182f477c6dd61bd1ec401b3d14df6ba89ab84b50b4941da9d71e2d884ec66cfcc0eae1bbdef13013181ccfd\n",
      "Scalar: 18423154715576613957068331448529704543923090025800018565467354450997990217281\n",
      "Compressed: 12UarvFCHSQh3pAREwYai92haeovuE77Wc\n",
      "Uncompressed: 1DiYXCnKDNJkw8S2Jihbf3sz98JHM4BZzx\n",
      "\n",
      "Key Level: 2\n",
      "PK HEX: 0x375be65bf67907a78812f8549ecccc7c5e1a04ba41583d2ab8e5508a8d3ea08e01d99c95c00a70679b7e93dd417d0c012a3c1dfe795022f69ba9c382b9c1ed52980b83d63d54d6eb900b86144842a882a79347708a40e9de640064a01d99f0f6d3607cc3670dd7f43b8cea599fac77817483e3616c0f8a217819de04b6c68089ff66a518d1693474e5704921f5638988d2c1484b54b7736b2e397cc138d73a\n",
      "Scalar: 18423154715576613957068331448529704543923090025800018565467354450997990217282\n",
      "Compressed: 1NPr6zVY3aaxkpV8ERU1fca7mLwCNxXyV2\n",
      "Uncompressed: 14d2XqEkGTcvetxS4q1KzLBZJ6BYqhAsti\n",
      "\n",
      "Key Level: 3\n",
      "PK HEX: 0x8ced3a7a8ae97b3bfdd00473cf76d692a7671dc1f5158d6a9d49c71b5f878d83728373bf1054dcd24866292f4d9ad6d26aca8bd4f6f223a1f9dd7f65fdf9f2448633b1a1003da117b2c75e064f3978055062b26e32ed43a7ff0680f0b414cb68609731c3ca66c576a4674ba062c2189ac415b1eae9b1d962034bcff450f48f8b9d050171940650b3a3ccf426bbb518f8382a0a7d021a14904cb34e0328bbb3823cf102398dcbe4d89dcc01c6d297e2d3b68c30dc6123aaace32071737d02e\n",
      "Scalar: 18423154715576613957068331448529704543923090025800018565467354450997990217283\n",
      "Compressed: 16jRbV13N3uH3WH7Wo1Y4ccJdjU91AbRnk\n",
      "Uncompressed: 1KYsViSwMjhzKrRuDK73dTzCsf5uABxAKv\n",
      "\n",
      "Key Level: 4\n",
      "PK HEX: 0x166c1598ffd3b244ca70ad5fa8fdf11177e8c3f1f0344efd40fefca175782a844aa4242bcea9731b07e3ced1ba44df8edd15cba55baee9270436c7d836419ad1de57effe17447f655d27f9701b433d0baf3e2bb91ee3a0410e127a43e0ad4d8f76168697f89c6134a374d88b817038c93780db2d02777fda8535dbf946f4f4b81094272c6b18b564892d4c2aa53421683304aa1701a5c6428fbab3450b3130c3acc592ab0017bf5c2a8f12f29b0cbd55925ad57e2bea2d1e0c0b6dc15b120520160cccecb30d8915f540ce8bd0ae7e8716f7caed2f4ffac4a71ebd060c038\n",
      "Scalar: 18423154715576613957068331448529704543923090025800018565467354450997990217284\n",
      "Compressed: 1QLKMNEB4fMbqYjuNWgWDEVFhNbg7JkJK4\n",
      "Uncompressed: 17bYBFPRr6JXds7KV6FNfseb65EtrUywuy\n"
     ]
    }
   ],
   "source": [
    "from ecc import G\n",
    "from hashlib import sha256 as s256\n",
    "from hashlib import sha512 as s512\n",
    "\n",
    "\n",
    "s = input(\"What is your code? \")\n",
    "hashes = int(input(\"How many hashes?\"))\n",
    "total_keys = int(input(\"How many keys would you like generated:\"))\n",
    "\n",
    "for i in range(hashes):\n",
    "    s = s512(s.encode()).hexdigest()\n",
    "    t = s256(s.encode()).hexdigest()\n",
    "s = (int(s, 16))\n",
    "t = (int(t, 16))\n",
    "s = s*t\n",
    "# u is scalar\n",
    "u = t\n",
    "#parent_key\n",
    "parent = s\n",
    "\n",
    "print()\n",
    "print('Main key: ' + str(parent))\n",
    "print('Main key (hex): ' + hex(parent))\n",
    "print()\n",
    "\n",
    "level = 0\n",
    "# use your phone number if you can't think of anything\n",
    "#secret = 0x977090903897cfbb8e30a806ad5d0c2086cb42d3e341ba0efdccc31b4b278823058aa1c57ddd23fccf54eea8d71199b053ccac8c53c87b9dfafda9e32562f5d32\n",
    "for key_level in range(u, u + total_keys):\n",
    "    level = level + 1\n",
    "    s = key_level*s\n",
    "    print()\n",
    "    print('Key Level: ' + str(level))\n",
    "    print(\"PK HEX: \"+ hex(s))\n",
    "    print('Scalar: ' + str(key_level))\n",
    "    # get the public point\n",
    "    point = s*G\n",
    "    # if you completed the `address` method, just do the .address(testnet=True) method on the public point\n",
    "    print('Compressed: ' + (point.address(compressed=True, testnet=False)))\n",
    "    print('Uncompressed: ' + (point.address(compressed=False, testnet=False)))"
   ]
  },
  {
   "cell_type": "markdown",
   "metadata": {},
   "source": []
  },
  {
   "cell_type": "code",
   "execution_count": null,
   "metadata": {},
   "outputs": [],
   "source": []
  }
 ],
 "metadata": {
  "kernelspec": {
   "display_name": "Python 3",
   "language": "python",
   "name": "python3"
  },
  "language_info": {
   "codemirror_mode": {
    "name": "ipython",
    "version": 3
   },
   "file_extension": ".py",
   "mimetype": "text/x-python",
   "name": "python",
   "nbconvert_exporter": "python",
   "pygments_lexer": "ipython3",
   "version": "3.6.4"
  }
 },
 "nbformat": 4,
 "nbformat_minor": 2
}
